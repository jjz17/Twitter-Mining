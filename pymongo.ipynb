{
 "cells": [
  {
   "cell_type": "code",
   "execution_count": 4,
   "metadata": {},
   "outputs": [],
   "source": [
    "import pymongo\n",
    "from pymongo import MongoClient\n",
    "from pprint import pprint\n",
    "import json"
   ]
  },
  {
   "cell_type": "code",
   "execution_count": 21,
   "metadata": {},
   "outputs": [
    {
     "name": "stdout",
     "output_type": "stream",
     "text": [
      "None\n"
     ]
    }
   ],
   "source": [
    "client = MongoClient()\n",
    "db = client['socialAnalyticsDB']\n",
    "collection = db['twitter']\n",
    "# Example document\n",
    "pprint(collection.find_one())"
   ]
  },
  {
   "cell_type": "code",
   "execution_count": 29,
   "metadata": {},
   "outputs": [],
   "source": [
    "with open('d.json') as file:\n",
    "    data = json.load(file)\n",
    "    # print(type(data))\n",
    "    collection.insert_many(data)\n",
    "    file.close()\n",
    "# client.close()"
   ]
  },
  {
   "cell_type": "code",
   "execution_count": 15,
   "metadata": {},
   "outputs": [
    {
     "name": "stdout",
     "output_type": "stream",
     "text": [
      "<class 'list'>\n",
      "54\n"
     ]
    }
   ],
   "source": [
    "with open('data.json', 'r') as file:\n",
    "    data = json.load(file)\n",
    "\n",
    "new_d = []\n",
    "for key, val in data.items():\n",
    "    new_d.append({key: val})\n",
    "\n",
    "print(type(new_d))\n",
    "print(len(new_d))\n",
    "\n",
    "with open('d.json', 'w') as file:\n",
    "    json.dump(new_d, file)"
   ]
  }
 ],
 "metadata": {
  "interpreter": {
   "hash": "06930ff2fe2d2e4505eca7237312657868fd62e94d0ad3c1d50b24f0afbd7531"
  },
  "kernelspec": {
   "display_name": "Python 3.9.13 ('venv': venv)",
   "language": "python",
   "name": "python3"
  },
  "language_info": {
   "codemirror_mode": {
    "name": "ipython",
    "version": 3
   },
   "file_extension": ".py",
   "mimetype": "text/x-python",
   "name": "python",
   "nbconvert_exporter": "python",
   "pygments_lexer": "ipython3",
   "version": "3.9.13"
  },
  "orig_nbformat": 4
 },
 "nbformat": 4,
 "nbformat_minor": 2
}
